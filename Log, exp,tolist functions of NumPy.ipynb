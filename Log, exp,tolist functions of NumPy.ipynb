{
 "cells": [
  {
   "cell_type": "markdown",
   "id": "7b372fb7-cc7a-4fc5-bf87-c8bf9b40cce2",
   "metadata": {},
   "source": [
    "# Log()\n",
    "\n",
    "The numpy log() is mathematical function that helps user  to calculate Natural logarithm of x where x belongs to all the input array elements."
   ]
  },
  {
   "cell_type": "code",
   "execution_count": 3,
   "id": "084b472b-e21a-428b-92a8-c47b98ab2ff2",
   "metadata": {},
   "outputs": [
    {
     "name": "stdout",
     "output_type": "stream",
     "text": [
      "Input array :  [1, 3, 5]\n",
      "Output array :  [0.         1.09861229 1.60943791]\n"
     ]
    }
   ],
   "source": [
    "# Log() function\n",
    "import numpy as np\n",
    "\n",
    "in_array = [1, 3, 5]\n",
    "print (\"Input array : \", in_array)\n",
    "\n",
    "out_array = np.log(in_array)\n",
    "print (\"Output array : \", out_array)\n",
    "\n"
   ]
  },
  {
   "cell_type": "markdown",
   "id": "e9a6bfb1-07da-41bf-a145-a8cd0c5e3155",
   "metadata": {},
   "source": [
    "# Exp() Exponential\n",
    "\n",
    "This mathematical function helps user to calculate exponential of all the elements in the input array."
   ]
  },
  {
   "cell_type": "code",
   "execution_count": 5,
   "id": "3f8bf500-95c3-418e-9e34-24fadb28de40",
   "metadata": {},
   "outputs": [
    {
     "name": "stdout",
     "output_type": "stream",
     "text": [
      "Input array :  [1, 3, 5]\n",
      "Output array :  [  2.71828183  20.08553692 148.4131591 ]\n"
     ]
    }
   ],
   "source": [
    "# exp() function\n",
    "import numpy as np\n",
    "\n",
    "in_array = [1, 3, 5]\n",
    "print (\"Input array : \", in_array)\n",
    "\n",
    "out_array = np.exp(in_array)\n",
    "print (\"Output array : \", out_array)"
   ]
  },
  {
   "cell_type": "markdown",
   "id": "57609c77-8f49-42bc-a7cd-02ba761cc8c3",
   "metadata": {},
   "source": [
    "# tolist()\n",
    "\n",
    "This function converts into numpy array to list"
   ]
  },
  {
   "cell_type": "code",
   "execution_count": 7,
   "id": "2c5c58d3-e897-4028-b248-aeed14e9c15f",
   "metadata": {},
   "outputs": [
    {
     "name": "stdout",
     "output_type": "stream",
     "text": [
      "\n",
      "Array:\n",
      "[1 2 4 5]\n",
      "<class 'numpy.ndarray'>\n",
      "\n",
      "List:\n",
      "[1, 2, 4, 5]\n",
      "<class 'list'>\n"
     ]
    }
   ],
   "source": [
    "# import module\n",
    "import numpy as np\n",
    "\n",
    "# create array\n",
    "print(\"\\nArray:\")\n",
    "arr = np.array([1, 2, 4, 5])\n",
    "print(arr)\n",
    "print(type(arr))\n",
    "\n",
    "# apply method\n",
    "lis = arr.tolist()\n",
    "\n",
    "# display list\n",
    "print(\"\\nList:\")\n",
    "print(lis)\n",
    "print(type(lis))\n"
   ]
  },
  {
   "cell_type": "code",
   "execution_count": null,
   "id": "86b906dd-e41b-4d12-bf0d-44a4ec7f33fa",
   "metadata": {},
   "outputs": [],
   "source": []
  }
 ],
 "metadata": {
  "kernelspec": {
   "display_name": "Python 3 (ipykernel)",
   "language": "python",
   "name": "python3"
  },
  "language_info": {
   "codemirror_mode": {
    "name": "ipython",
    "version": 3
   },
   "file_extension": ".py",
   "mimetype": "text/x-python",
   "name": "python",
   "nbconvert_exporter": "python",
   "pygments_lexer": "ipython3",
   "version": "3.12.4"
  }
 },
 "nbformat": 4,
 "nbformat_minor": 5
}
